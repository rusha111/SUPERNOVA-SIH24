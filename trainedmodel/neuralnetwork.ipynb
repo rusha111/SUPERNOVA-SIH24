{
 "cells": [
  {
   "cell_type": "code",
   "execution_count": 5,
   "metadata": {},
   "outputs": [
    {
     "name": "stdout",
     "output_type": "stream",
     "text": [
      "Epoch 1/10\n",
      "30/30 [==============================] - 1s 7ms/step - loss: 2.5838 - accuracy: 0.8942 - val_loss: 0.8739 - val_accuracy: 0.9331\n",
      "Epoch 2/10\n",
      "30/30 [==============================] - 0s 3ms/step - loss: 0.6876 - accuracy: 0.9372 - val_loss: 0.3521 - val_accuracy: 0.9331\n",
      "Epoch 3/10\n",
      "30/30 [==============================] - 0s 2ms/step - loss: 0.2956 - accuracy: 0.9403 - val_loss: 0.2602 - val_accuracy: 0.9582\n",
      "Epoch 4/10\n",
      "30/30 [==============================] - 0s 2ms/step - loss: 0.2536 - accuracy: 0.9393 - val_loss: 0.1665 - val_accuracy: 0.9372\n",
      "Epoch 5/10\n",
      "30/30 [==============================] - 0s 3ms/step - loss: 0.3113 - accuracy: 0.9455 - val_loss: 0.5594 - val_accuracy: 0.9289\n",
      "Epoch 6/10\n",
      "30/30 [==============================] - 0s 2ms/step - loss: 0.3793 - accuracy: 0.9445 - val_loss: 0.3408 - val_accuracy: 0.9498\n",
      "Epoch 7/10\n",
      "30/30 [==============================] - 0s 2ms/step - loss: 0.1736 - accuracy: 0.9550 - val_loss: 0.3911 - val_accuracy: 0.9079\n",
      "Epoch 8/10\n",
      "30/30 [==============================] - 0s 2ms/step - loss: 0.3721 - accuracy: 0.9466 - val_loss: 0.0955 - val_accuracy: 0.9749\n",
      "Epoch 9/10\n",
      "30/30 [==============================] - 0s 3ms/step - loss: 0.2660 - accuracy: 0.9550 - val_loss: 0.4029 - val_accuracy: 0.9456\n",
      "Epoch 10/10\n",
      "30/30 [==============================] - 0s 2ms/step - loss: 0.4574 - accuracy: 0.9267 - val_loss: 0.5333 - val_accuracy: 0.8912\n",
      "8/8 [==============================] - 0s 0s/step - loss: 0.5333 - accuracy: 0.8912\n",
      "Accuracy on the test set: 89.12%\n",
      "INFO:tensorflow:Assets written to: D:/sih git/trainedmodel\\assets\n"
     ]
    },
    {
     "name": "stderr",
     "output_type": "stream",
     "text": [
      "INFO:tensorflow:Assets written to: D:/sih git/trainedmodel\\assets\n"
     ]
    }
   ],
   "source": [
    "import json\n",
    "import numpy as np\n",
    "import tensorflow as tf\n",
    "from tensorflow.keras import layers, models\n",
    "\n",
    "# Load data from JSON files\n",
    "def load_data(file_path):\n",
    "    with open(file_path, 'r') as f:\n",
    "        data = json.load(f)\n",
    "    return data\n",
    "\n",
    "# Load fake and real account data\n",
    "fake_data = load_data('fakeAccountData.json')\n",
    "real_data = load_data('realAccountData.json')\n",
    "\n",
    "# Combine both datasets\n",
    "all_data = fake_data + real_data\n",
    "\n",
    "# Shuffle the data\n",
    "np.random.shuffle(all_data)\n",
    "\n",
    "# Extract features and labels\n",
    "features = [list(sample.values())[:-1] for sample in all_data]\n",
    "labels = [sample['isFake'] for sample in all_data]\n",
    "\n",
    "# Convert lists to NumPy arrays\n",
    "X = np.array(features, dtype=np.float32)\n",
    "y = np.array(labels, dtype=np.float32)\n",
    "\n",
    "# Split the data into training and testing sets\n",
    "split_index = int(0.8 * len(X))\n",
    "X_train, X_test = X[:split_index], X[split_index:]\n",
    "y_train, y_test = y[:split_index], y[split_index:]\n",
    "\n",
    "# Create a simple neural network model\n",
    "model = models.Sequential()\n",
    "\n",
    "# Input layer\n",
    "model.add(layers.Dense(32, input_dim=X.shape[1], activation='relu'))\n",
    "\n",
    "# Hidden layers\n",
    "# model.add(layers.Dense(64, activation='relu'))  # Additional hidden layer\n",
    "model.add(layers.Dense(32, activation='relu'))  # Additional hidden layer\n",
    "model.add(layers.Dense(16, activation='relu'))\n",
    "\n",
    "# Output layer\n",
    "model.add(layers.Dense(1, activation='sigmoid'))\n",
    "\n",
    "# Compile the model\n",
    "model.compile(optimizer='adam', loss='binary_crossentropy', metrics=['accuracy'])\n",
    "\n",
    "# Train the model\n",
    "model.fit(X_train, y_train, epochs=10, batch_size=32, validation_data=(X_test, y_test))\n",
    "\n",
    "# Evaluate the model\n",
    "accuracy = model.evaluate(X_test, y_test)[1]\n",
    "\n",
    "print(f\"Accuracy on the test set: {accuracy * 100:.2f}%\")\n",
    "\n",
    "\n",
    "# Save the trained model\n",
    "model.save('D:/sih git/trainedmodel')\n",
    "\n",
    "\n",
    "# Later, you can load the model using the following code\n",
    "# loaded_model = tf.keras.models.load_model('D:\\sih git\\trainedmodel')\n"
   ]
  }
 ],
 "metadata": {
  "kernelspec": {
   "display_name": "Python 3",
   "language": "python",
   "name": "python3"
  },
  "language_info": {
   "codemirror_mode": {
    "name": "ipython",
    "version": 3
   },
   "file_extension": ".py",
   "mimetype": "text/x-python",
   "name": "python",
   "nbconvert_exporter": "python",
   "pygments_lexer": "ipython3",
   "version": "3.8.6"
  }
 },
 "nbformat": 4,
 "nbformat_minor": 2
}
